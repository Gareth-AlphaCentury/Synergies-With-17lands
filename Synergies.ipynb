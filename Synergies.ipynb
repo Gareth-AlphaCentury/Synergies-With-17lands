{
 "cells": [
  {
   "cell_type": "markdown",
   "id": "5cc31dff",
   "metadata": {},
   "source": [
    "**Companion sheet to the youtube video**\n",
    "---\n",
    "\n",
    "**[Finding new draft synergies with 17lands and python!](https://www.youtube.com/channel/UCsQeG2OvXvPCpwjTe5T2K-g)**\n",
    "---\n",
    "---"
   ]
  },
  {
   "cell_type": "markdown",
   "id": "37973b12",
   "metadata": {},
   "source": [
    "First, lets import the libraries we'll use."
   ]
  },
  {
   "cell_type": "code",
   "execution_count": null,
   "id": "7d47db88",
   "metadata": {},
   "outputs": [],
   "source": [
    "%matplotlib notebook\n",
    "import pandas as pd\n",
    "import numpy as np"
   ]
  },
  {
   "cell_type": "markdown",
   "id": "47742521",
   "metadata": {},
   "source": [
    "Let's go ahead and read the 17lands data from our file. It's important that the data file is in the same folder as our jupyter notebook."
   ]
  },
  {
   "cell_type": "code",
   "execution_count": null,
   "id": "c0bef884",
   "metadata": {},
   "outputs": [],
   "source": [
    "f = 'game_data_public.MID.PremierDraft.csv'\n",
    "sdf = pd.read_csv(f)\n",
    "print(f'Number of games: {len(sdf)}')"
   ]
  },
  {
   "cell_type": "markdown",
   "id": "b3c5a51b",
   "metadata": {},
   "source": [
    "Let's look at the columns in our \"excel sheet\"."
   ]
  },
  {
   "cell_type": "code",
   "execution_count": null,
   "id": "8a9816d0",
   "metadata": {},
   "outputs": [],
   "source": [
    "n_columns = len(sdf.columns)\n",
    "print(f'Number of columns: {n_columns}')\n",
    "column_headings = list(sdf.columns)\n",
    "print(f'Columns headings: {column_headings}')"
   ]
  },
  {
   "cell_type": "code",
   "execution_count": null,
   "id": "1fe4f39d",
   "metadata": {},
   "outputs": [],
   "source": [
    "sdf = sdf.head(300000)\n",
    "print(f'New dataframe length: {len(sdf)}')"
   ]
  },
  {
   "cell_type": "markdown",
   "id": "fb82da80",
   "metadata": {},
   "source": [
    "Let's only look at the commons and uncommons, and ignore the rares. This isn't VOW, after all..."
   ]
  },
  {
   "cell_type": "code",
   "execution_count": null,
   "id": "1913d67d",
   "metadata": {},
   "outputs": [],
   "source": [
    "commons = ['Consider', 'Cathar Commando', 'Otherworldly Gaze', 'Blood Pact', 'Return to Nature', \"Jack-o'-Lantern\", 'Lunarch Veteran', 'Ardent Elementalist', 'Evolving Wilds', 'Larder Zombie', 'Unblinking Observer', 'Duress', 'Raze the Effigy', 'Geistwave', \"Moonrager's Slash\", \"Pack's Betrayal\", 'Voldaren Stinger', 'Candletrap', 'Famished Foragers', 'Flip the Switch', 'Morkrut Behemoth', 'No Way Out', 'Rotten Reunion', 'Stolen Vitality', 'Snarling Wolf', 'Secrets of the Key', 'Hobbling Zombie', 'Startle', 'Falkenrath Perforator', 'Bird Admirer', 'Bladebrand', 'Blessed Defiance', 'Revenge of the Drowned', 'Crawl from the Cellar', 'Lambholt Harrier', \"Neonate's Rush\", 'Bounding Wolf', 'Might of the Old Ways', 'Defenestrate', 'Siege Zombie', 'Immolation', 'Diregraf Horde', 'Duel for Dominance', 'Search Party Captain', 'Vampire Interloper', 'Burn the Accursed', 'Electric Revelation', 'Mounted Dreadknight', 'Tapping at the Window', 'Tireless Hauler', 'Unruly Mob', 'Festival Crasher', 'Howl of the Hunt', 'Pestilent Wolf', 'Candlelit Cavalry', 'Baithook Angler', 'Stormrider Spirit', 'Brimstone Vandal', 'Arrogant Outlaw', 'Dawnhart Rejuvenator', 'Candlegrove Witch', 'Celestus Sanctifier', 'Ritual Guardian', 'Sungold Barrage', \"Hedgewitch's Mask\", 'Locked in the Cemetery', 'Stuffed Bear', 'Flare of Faith', 'Thraben Exorcism', 'Organ Hoarder', 'Gavony Silversmith', 'Gavony Trapper', 'Homestead Courage', 'Soul-Guide Gryff', 'Mourning Patrol', 'Clarion Cathars', 'Component Collector', 'Devious Cover-Up', 'Drownyard Amalgam', 'Falcon Abomination', 'Shipwreck Sifters', 'Bat Whisperer', 'Novice Occultist', \"Olivia's Midnight Ambush\", 'Abandon the Post', 'Bramble Armor', 'Eccentric Farmer', 'Harvesttide Sentry', 'Path to the Festival', 'Plummet', 'Shadowbeast Sighting', 'Timberland Guide', 'Crossroads Candleguide', 'Silver Bolt', 'Galedrifter', 'Ecstatic Awakener', 'Shady Traveler', 'Harvesttide Infiltrator', 'Tavern Ruffian']\n",
    "uncommons = ['Faithful Mending', 'Infernal Grasp', 'Moonsilver Key', 'Sunset Revelry', 'Morbid Opportunist', 'Play with Fire', 'Vampire Socialite', 'Outland Liberator', 'Delver of Secrets', 'Kessig Naturalist', 'Field of Ruin', 'Fading Hope', 'Cathartic Pyre', 'Bladestitched Skaab', 'Join the Dance', 'Village Watch', 'Ominous Roost', 'Heirloom Mirror', 'Thermo-Alchemist', 'Flame Channeler', 'Dissipate', 'Gavony Dawnguard', 'Lunar Frenzy', 'Ghoulish Procession', 'Diregraf Rebirth', 'Fleshtaker', 'Corpse Cobble', 'Chaplain of Alms', 'Ambitious Farmhand', 'Mystic Skull', 'Overwhelmed Archivist', 'Borrowed Time', \"Dryad's Revival\", 'Rootcoil Creeper', 'Spellrune Painter', 'Rite of Oblivion', 'Bereaved Survivor', 'Hound Tamer', 'Unnatural Moonrise', 'Deathbonnet Sprout', 'Contortionist Troupe', 'Devoted Grafkeeper', 'Voldaren Ambusher', 'Burly Breaker', 'Hungry for More', 'Necrosynthesis', 'Fangblade Brigand', 'Dreadhound', 'Vengeful Strangler', 'Stromkirk Bloodthief', 'Arcane Infusion', 'Turn the Earth', 'Purifying Dragon', 'Covert Cutpurse', 'Sacred Fire', 'Vivisection', 'Storm Skreelix', 'Beloved Beggar', 'Baneblade Scoundrel', 'Sunrise Cavalier', 'Foul Play', 'Defend the Celestus', 'Winterthorn Blessing', 'Clear Shot', 'Seize the Storm', 'Dawnhart Wardens', 'Nebelgast Intruder', 'Mysterious Tome', 'Loyal Gryff', 'Grizzly Ghoul', 'Ritual of Hope', 'Rise of the Ants', 'Covetous Castaway', \"Odric's Outrider\", 'Dawnhart Mentor', 'Skaab Wrangler', 'Brood Weaver', 'Phantom Carriage', 'Firmament Sage', 'Bloodtithe Collector', 'Obsessive Astronomer', \"Cathar's Call\", 'Duelcraft Trainer']\n",
    "nonrares = commons + uncommons"
   ]
  },
  {
   "cell_type": "markdown",
   "id": "47e60c03",
   "metadata": {},
   "source": [
    "Now, lets look at the GIH win rates conditional on a certain card being in the deck."
   ]
  },
  {
   "cell_type": "code",
   "execution_count": null,
   "id": "e965ee7f",
   "metadata": {},
   "outputs": [],
   "source": [
    "synergy_card = \"Ominous Roost\"\n",
    "synergy_number = 2\n",
    "min_sample_size = 100"
   ]
  },
  {
   "cell_type": "code",
   "execution_count": null,
   "id": "0d9cec0f",
   "metadata": {},
   "outputs": [],
   "source": [
    "GIH_wr = []\n",
    "GIH_wr_syn = []\n",
    "GIH_names = []\n",
    "n_GIH_syn = []\n",
    "for name in nonrares:\n",
    "    sdf_GIH = sdf[(sdf[\"opening_hand_\"+name]+sdf[\"drawn_\"+name])>0]\n",
    "    sdf_GIH_syn = sdf[((sdf[\"opening_hand_\"+name]+sdf[\"drawn_\"+name])>0) & (sdf[\"deck_\"+synergy_card]>=synergy_number)]\n",
    "    if len(sdf_GIH_syn)>min_sample_size:\n",
    "        GIH_wr.append(len(sdf_GIH[sdf_GIH[\"won\"]==True])/len(sdf_GIH))\n",
    "        GIH_wr_syn.append(len(sdf_GIH_syn[sdf_GIH_syn[\"won\"]==True])/len(sdf_GIH_syn))\n",
    "        GIH_names.append(name)\n",
    "        n_GIH_syn.append(len(sdf_GIH_syn))\n",
    "plotdf = pd.DataFrame(list(zip(GIH_wr,GIH_wr_syn,n_GIH_syn)),columns=('GIH_wr','GIH_wr_syn','n_GIH_syn'))\n",
    "plotdf.index = GIH_names"
   ]
  },
  {
   "cell_type": "markdown",
   "id": "9981e218",
   "metadata": {},
   "source": [
    "Now let's make some plots!"
   ]
  },
  {
   "cell_type": "code",
   "execution_count": null,
   "id": "d7b59b00",
   "metadata": {},
   "outputs": [],
   "source": [
    "import matplotlib.pyplot as plt\n",
    "fig,ax = plt.subplots(figsize=(7,7))\n",
    "x = plotdf['GIH_wr']\n",
    "y = plotdf['GIH_wr_syn']\n",
    "tt = plotdf.index\n",
    "n_GIH = plotdf[\"n_GIH_syn\"]\n",
    "sc = plt.scatter(x,y,c=np.log(n_GIH),cmap='Blues',edgecolor='black')\n",
    "plt.grid()\n",
    "nn = plt.xticks(np.arange(0.4, 0.8, step=0.05))\n",
    "nn = plt.yticks(np.arange(0.4, 0.8, step=0.05))\n",
    "nn = ax.title.set_text(f'Win rate improvement with {synergy_number} {synergy_card} in deck')\n",
    "nn = ax.set_xlabel('Baseline GIH winrate')\n",
    "nn = ax.set_ylabel(f'GIH winrate with {synergy_number} {synergy_card} in deck')\n",
    "lims = [ np.min([ax.get_xlim(), ax.get_ylim()]), np.max([ax.get_xlim(), ax.get_ylim()]) ]\n",
    "ax.plot(lims, lims, 'k-', alpha=0.75, zorder=0)\n",
    "ax.set_xlim(lims)\n",
    "ax.set_ylim(lims)"
   ]
  },
  {
   "cell_type": "markdown",
   "id": "faa0d468",
   "metadata": {},
   "source": [
    "And some extra code to make the plot interactive..."
   ]
  },
  {
   "cell_type": "code",
   "execution_count": null,
   "id": "090aeb12",
   "metadata": {},
   "outputs": [],
   "source": [
    "annot = ax.annotate(\"\", xy=(0,0), xytext=(5,5),textcoords=\"offset points\",backgroundcolor='white')\n",
    "annot.set_visible(False)\n",
    "\n",
    "def hover(event):\n",
    "    if event.inaxes == ax:        \n",
    "        cont, ind = sc.contains(event)\n",
    "        if cont:\n",
    "            annot.xy = (event.xdata, event.ydata)\n",
    "            annot.set_text(\"{}\".format('\\n'.join([f'{tt[i]}, n={n_GIH[i]}' for i in ind[\"ind\"]])))\n",
    "            annot.set_visible(True)    \n",
    "        else:\n",
    "            annot.set_visible(False)\n",
    "nn = fig.canvas.mpl_connect(\"motion_notify_event\", hover)\n"
   ]
  }
 ],
 "metadata": {
  "kernelspec": {
   "display_name": "Python 3 (ipykernel)",
   "language": "python",
   "name": "python3"
  },
  "language_info": {
   "codemirror_mode": {
    "name": "ipython",
    "version": 3
   },
   "file_extension": ".py",
   "mimetype": "text/x-python",
   "name": "python",
   "nbconvert_exporter": "python",
   "pygments_lexer": "ipython3",
   "version": "3.9.7"
  }
 },
 "nbformat": 4,
 "nbformat_minor": 5
}
